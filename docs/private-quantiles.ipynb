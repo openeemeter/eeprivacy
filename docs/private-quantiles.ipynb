{
 "cells": [
  {
   "cell_type": "markdown",
   "metadata": {
    "nteract": {
     "transient": {
      "deleting": false
     }
    }
   },
   "source": [
    "# Private Quantiles #"
   ]
  },
  {
   "cell_type": "code",
   "execution_count": 1,
   "metadata": {
    "collapsed": true,
    "execution": {
     "iopub.execute_input": "2020-09-01T23:08:47.596Z",
     "iopub.status.busy": "2020-09-01T23:08:47.593Z",
     "iopub.status.idle": "2020-09-01T23:09:01.873Z",
     "shell.execute_reply": "2020-09-01T23:09:01.890Z"
    },
    "jupyter": {
     "outputs_hidden": false,
     "source_hidden": false
    },
    "nteract": {
     "transient": {
      "deleting": false
     }
    }
   },
   "outputs": [
    {
     "name": "stdout",
     "output_type": "stream",
     "text": [
      "2.1618065391817365\n"
     ]
    }
   ],
   "source": [
    "import matplotlib.pyplot as plt\n",
    "import numpy as np\n",
    "import pandas as pd\n",
    "import matplotlib as mpl\n",
    "from scipy import stats\n",
    "\n",
    "np.random.seed(1234) # Fix seed for deterministic documentation\n",
    "\n",
    "mpl.style.use(\"seaborn-white\")\n",
    "\n",
    "MD = 28\n",
    "LG = 36\n",
    "plt.rcParams.update({\n",
    "    \"figure.figsize\": [25, 7],\n",
    "    \"legend.fontsize\": MD,\n",
    "    \"axes.labelsize\": LG,\n",
    "    \"axes.titlesize\": LG,\n",
    "    \"xtick.labelsize\": LG,\n",
    "    \"ytick.labelsize\": LG,\n",
    "})\n",
    "\n",
    "def exponential_mechanism_quantile(\n",
    "  values,\n",
    "  options, \n",
    "  scores,\n",
    "  quantile, \n",
    "  epsilon,\n",
    "  sensitivity=1\n",
    "):\n",
    "    \"\"\"\n",
    "    \"\"\"\n",
    "    # Calculate the score for each element of R\n",
    "    sensitivity = 8760\n",
    "    noisy_scores = scores + np.random.laplace(0, sensitivity / epsilon, len(scores))\n",
    "    \n",
    "#     print(noisy_scores)\n",
    "    \n",
    "    max_idx = np.argmax(noisy_scores)\n",
    "    \n",
    "    return options[max_idx]    \n",
    "\n",
    "  \n",
    "values = np.random.pareto(4, 30000*365*24)\n",
    "options = np.linspace(0, 5, num=200)\n",
    "\n",
    "trials = []\n",
    "\n",
    "quantile = 0.99\n",
    "\n",
    "print(np.quantile(values, quantile))\n",
    "\n",
    "def u(values, option, quantile):\n",
    "    # Count the number of data points in `values` < `option`\n",
    "    count = np.sum(values < option)\n",
    "\n",
    "    # Compute quality for quantile\n",
    "    # Returns 0 if `option` is dead-on the quantile\n",
    "    # Returns larger negative values as `option` moves\n",
    "    #   away from the true quantile\n",
    "    N = len(values)\n",
    "    return -np.abs(count - N * quantile)\n",
    "    \n",
    "# scores = [u(values, option, quantile) for option in options]\n",
    "# res = exponential_mechanism_quantile(\n",
    "#   values=values, options=options, scores=scores, quantile=quantile, epsilon=1, sensitivity=8760\n",
    "# )\n",
    "\n",
    "# print(res)\n",
    "\n",
    "# for t in range(100):\n",
    "#     res = exponential_mechanism_quantile(\n",
    "#       values=values, options=options, scores=scores, quantile=quantile, epsilon=0.1, sensitivity=8760\n",
    "#     )\n",
    "#     trials.append(res)\n",
    "    \n",
    "# plt.hist(trials)\n",
    "# plt.show()\n"
   ]
  },
  {
   "cell_type": "code",
   "execution_count": 5,
   "metadata": {
    "collapsed": true,
    "execution": {
     "iopub.execute_input": "2020-09-01T23:09:41.823Z",
     "iopub.status.busy": "2020-09-01T23:09:41.820Z",
     "iopub.status.idle": "2020-09-01T23:09:50.231Z",
     "shell.execute_reply": "2020-09-01T23:09:50.237Z"
    },
    "jupyter": {
     "outputs_hidden": false,
     "source_hidden": false
    },
    "nteract": {
     "transient": {
      "deleting": false
     }
    }
   },
   "outputs": [
    {
     "name": "stdout",
     "output_type": "stream",
     "text": [
      "0.1892265523106994\n",
      "0.20100502512562815\n"
     ]
    }
   ],
   "source": [
    "from eeprivacy import private_quantile\n",
    "\n",
    "q = 0.5\n",
    "\n",
    "values = np.random.pareto(4, 3000*365*24)\n",
    "\n",
    "result = private_quantile(\n",
    "  values=values, \n",
    "  options=np.linspace(0, 5, num=200),\n",
    "  quantile=q,\n",
    "  epsilon=1,\n",
    "  sensitivity=8760\n",
    ")\n",
    "\n",
    "print(np.quantile(values, q))\n",
    "print(result)\n",
    "\n",
    "# for t in range(5):\n",
    "#     res = exponential_mechanism_quantile(\n",
    "#       values=values, options=options, scores=scores, quantile=quantile, epsilon=0.1, sensitivity=8760\n",
    "#     )\n",
    "#     trials.append(res)\n",
    "    \n",
    "# plt.hist(trials)\n",
    "# plt.show()"
   ]
  },
  {
   "cell_type": "code",
   "execution_count": null,
   "metadata": {
    "collapsed": true,
    "jupyter": {
     "outputs_hidden": false,
     "source_hidden": false
    },
    "nteract": {
     "transient": {
      "deleting": false
     }
    }
   },
   "outputs": [],
   "source": []
  }
 ],
 "metadata": {
  "kernel_info": {
   "name": "python3"
  },
  "kernelspec": {
   "argv": [
    "/Users/marc/venvs/edv-pilot/bin/python",
    "-m",
    "ipykernel_launcher",
    "-f",
    "{connection_file}"
   ],
   "display_name": "Python 3",
   "language": "python",
   "name": "python3"
  },
  "language_info": {
   "codemirror_mode": {
    "name": "ipython",
    "version": 3
   },
   "file_extension": ".py",
   "mimetype": "text/x-python",
   "name": "python",
   "nbconvert_exporter": "python",
   "pygments_lexer": "ipython3",
   "version": "3.8.5"
  },
  "nteract": {
   "version": "0.24.1"
  }
 },
 "nbformat": 4,
 "nbformat_minor": 0
}
