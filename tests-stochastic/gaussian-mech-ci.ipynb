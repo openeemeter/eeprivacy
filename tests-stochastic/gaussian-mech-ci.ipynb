{
 "cells": [
  {
   "cell_type": "markdown",
   "metadata": {},
   "source": [
    "# Test Gaussian Mechanism CIs #"
   ]
  },
  {
   "cell_type": "code",
   "execution_count": 1,
   "metadata": {},
   "outputs": [],
   "source": [
    "# Preamble: imports and figure settings\n",
    "\n",
    "import matplotlib as mpl\n",
    "import matplotlib.pyplot as plt\n",
    "import numpy as np\n",
    "import pandas as pd\n",
    "from scipy import stats\n",
    "from tqdm import tqdm\n",
    "\n",
    "from eeprivacy.operations import PrivateVectorClampedMeanGaussian\n",
    "\n",
    "np.random.seed(1234)  # Fix seed for deterministic documentation\n",
    "\n",
    "mpl.style.use(\"seaborn-white\")\n",
    "\n",
    "MD = 28\n",
    "LG = 36\n",
    "plt.rcParams.update(\n",
    "    {\n",
    "        \"figure.figsize\": [25, 10],\n",
    "        \"legend.fontsize\": MD,\n",
    "        \"axes.labelsize\": LG,\n",
    "        \"axes.titlesize\": LG,\n",
    "        \"xtick.labelsize\": LG,\n",
    "        \"ytick.labelsize\": LG,\n",
    "    }\n",
    ")"
   ]
  },
  {
   "cell_type": "code",
   "execution_count": null,
   "metadata": {},
   "outputs": [],
   "source": [
    "N = 200\n",
    "k = 8\n",
    "op = PrivateVectorClampedMeanGaussian(\n",
    "    lower_bound=0, upper_bound=1, k=k, N=N\n",
    ")\n",
    "\n",
    "results = []\n",
    "\n",
    "for _ in range(10000):\n",
    "    result = op.execute(vectors=np.zeros((N, k)), epsilon=1.0, delta=1e-12)\n",
    "    results.append(result[0])\n",
    "\n",
    "plt.hist(results, bins=30)\n",
    "plt.show()\n",
    "\n",
    "print(\"These should be the same:\")\n",
    "print(np.quantile(results, 0.975))\n",
    "print(op.confidence_interval(epsilon=1.0, delta=1e-12, confidence=0.95))"
   ]
  },
  {
   "cell_type": "code",
   "execution_count": null,
   "metadata": {},
   "outputs": [],
   "source": []
  }
 ],
 "metadata": {
  "kernelspec": {
   "display_name": "Python 3",
   "language": "python",
   "name": "python3"
  },
  "language_info": {
   "codemirror_mode": {
    "name": "ipython",
    "version": 3
   },
   "file_extension": ".py",
   "mimetype": "text/x-python",
   "name": "python",
   "nbconvert_exporter": "python",
   "pygments_lexer": "ipython3",
   "version": "3.7.8"
  }
 },
 "nbformat": 4,
 "nbformat_minor": 4
}
